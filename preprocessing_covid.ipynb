{
  "nbformat": 4,
  "nbformat_minor": 0,
  "metadata": {
    "colab": {
      "name": "preprocessing_covid.ipynb",
      "provenance": [],
      "collapsed_sections": [],
      "authorship_tag": "ABX9TyPmClbn9omFZEu5RSdETJ8W",
      "include_colab_link": true
    },
    "kernelspec": {
      "name": "python3",
      "display_name": "Python 3"
    },
    "language_info": {
      "name": "python"
    }
  },
  "cells": [
    {
      "cell_type": "markdown",
      "metadata": {
        "id": "view-in-github",
        "colab_type": "text"
      },
      "source": [
        "<a href=\"https://colab.research.google.com/github/christian235711/covid/blob/main/preprocessing_covid.ipynb\" target=\"_parent\"><img src=\"https://colab.research.google.com/assets/colab-badge.svg\" alt=\"Open In Colab\"/></a>"
      ]
    },
    {
      "cell_type": "code",
      "metadata": {
        "id": "0VNuzis8obOs"
      },
      "source": [
        "import numpy as np\n",
        "import pandas as pd\n",
        "import seaborn as sns\n",
        "import matplotlib.pyplot as plt\n",
        "\n",
        "import xlrd\n",
        "from sklearn.model_selection import train_test_split\n",
        "\n",
        "\n",
        "from google.colab import drive"
      ],
      "execution_count": 1,
      "outputs": []
    },
    {
      "cell_type": "code",
      "metadata": {
        "colab": {
          "base_uri": "https://localhost:8080/"
        },
        "id": "xzpqkMkDo-1H",
        "outputId": "da8e12aa-7396-4864-9de2-ec72e90b0ff3"
      },
      "source": [
        "drive.mount('/content/drive')"
      ],
      "execution_count": 2,
      "outputs": [
        {
          "output_type": "stream",
          "text": [
            "Mounted at /content/drive\n"
          ],
          "name": "stdout"
        }
      ]
    },
    {
      "cell_type": "markdown",
      "metadata": {
        "id": "uzuZ-c4Lqtqi"
      },
      "source": [
        "# Preprocessing\n",
        "\n",
        "- Le travail est divisé en plusieurs parties. Tout d'abord, la base de données est traitée afin d'éliminer les variables inutiles comme à l'étape du data exploraroty. Donc, nous récopions les lignes de code clés.\n",
        "\n",
        "- Ensuite, les données sont divisées en deux échantillons (apprentissage et test)\n",
        "\n",
        "- Le premier preprocessing (à l'aide de la fonction *preprocessing*) appliqué sur le dataset : encondent les variables qualitatives en 0 ou 1, éliminent les patients ayant au moins une caractéristique manquante (quatitatives et qualitatives) et divise chacune de deux échantillons en deux groupes (la varibles cible et les variables explicatives). \n",
        "\n",
        "- A la suite de cette étape, le premier modèle utilisé font appel aux arbres de décision (*DecisionTreeClassifier*) pour obtenir les premiers aperçus de la prédiction des données. Afin de mieux visualiser les resulats, les outils choisis sont la métrique f1-score, le matrice de confusion, le rapport de classification ainsi que les courbes d'apprentissages (issus de sklearn.metrics et sklearn.model_selection). Chacun de ses éléments sont dans la fonction *evaluation*. \n",
        "- Les resultats du premier modèle sont assez satisfaisants:\n",
        "  - 96% des patients sains sont prédits correctement contre 17% des patients covid prédits correctement. \n",
        "  - 84% des patients prédits sains sont bien classés par opposition à 50% des patients prédits covid mal classés.\n",
        "  - le score f1 montre également une disproportion des valeurs.\n",
        "\n",
        "  - les courbes d'apprentissage nous montrent que le modèle est en overfitting.\n",
        "- L'autre algorithme utilisé est le Random forest qui va lutter contre l'overfitting. \n",
        "- Il est également envisagé de travailler uniquement avec les variables sanguines, de créer une nouvelle variable *maladie* contenant les patients sains et les patients ayant au moins une maladie, de sélectionner les variables les plus importantes lors de la création d'un arbre de décision et d'utiliser des transformers. Certaines de ces idées sont prometteuses mais on ne les commentera pas car le but est de chercher un ensemble des données (création d'une nouvelle variable, élimination des valeurs manquantes) avec lesquels travailler lors de la modélisation et de répéter les modèles de machine learning les plus adaptés à la situation.\n",
        "\n",
        "\n",
        "\n",
        "\n",
        "\n",
        "\n",
        "\n"
      ]
    },
    {
      "cell_type": "code",
      "metadata": {
        "id": "7VlJjJeapFHI"
      },
      "source": [
        "data_orig = pd.read_excel(\"/content/drive/MyDrive/Colab_Notebooks/covid/dataset_covid.xlsx\")\n",
        "\n",
        "data= data_orig.copy()"
      ],
      "execution_count": 3,
      "outputs": []
    },
    {
      "cell_type": "code",
      "metadata": {
        "colab": {
          "base_uri": "https://localhost:8080/"
        },
        "id": "PWEfowMAp830",
        "outputId": "bdb737fe-5429-44c7-f33e-a2d8bf37a845"
      },
      "source": [
        "data.shape"
      ],
      "execution_count": 4,
      "outputs": [
        {
          "output_type": "execute_result",
          "data": {
            "text/plain": [
              "(5644, 111)"
            ]
          },
          "metadata": {
            "tags": []
          },
          "execution_count": 4
        }
      ]
    },
    {
      "cell_type": "code",
      "metadata": {
        "colab": {
          "base_uri": "https://localhost:8080/"
        },
        "id": "vAx5L-7Lp8-X",
        "outputId": "a2011566-32ee-46a9-b14b-1b96140f48d9"
      },
      "source": [
        "# création d'une nouvelle base de données (reprise des caractéristiques sanguines et maladies virales que nous avons troouvé à l'étape su data exploratory)\n",
        "\n",
        "# Eliminer les colonnes inutiles\n",
        "data=data.loc[:, data.isna().sum()/data.shape[0] <.9 ] # ou data[  data.columns[data.isna().sum()/data.shape[0] < .9]  ]\n",
        "data = data.drop(['Influenza A, rapid test', 'Influenza B, rapid test',],axis=1)\n",
        "\n",
        "# création de deux groupes de variables\n",
        "val = (data.isna().sum()/data.shape[0])*100\n",
        "maladie_col = data.columns[(val > 76) & (val < 86)]\n",
        "sang_col = data.columns[val > 86]\n",
        "print(\"maladies : \"+str(maladie_col))\n",
        "print(\"sang : \"+ str(sang_col))"
      ],
      "execution_count": 5,
      "outputs": [
        {
          "output_type": "stream",
          "text": [
            "maladies : Index(['Respiratory Syncytial Virus', 'Influenza A', 'Influenza B',\n",
            "       'Parainfluenza 1', 'CoronavirusNL63', 'Rhinovirus/Enterovirus',\n",
            "       'Coronavirus HKU1', 'Parainfluenza 3', 'Chlamydophila pneumoniae',\n",
            "       'Adenovirus', 'Parainfluenza 4', 'Coronavirus229E', 'CoronavirusOC43',\n",
            "       'Inf A H1N1 2009', 'Bordetella pertussis', 'Metapneumovirus',\n",
            "       'Parainfluenza 2'],\n",
            "      dtype='object')\n",
            "sang : Index(['Hematocrit', 'Hemoglobin', 'Platelets', 'Mean platelet volume ',\n",
            "       'Red blood Cells', 'Lymphocytes',\n",
            "       'Mean corpuscular hemoglobin concentration (MCHC)', 'Leukocytes',\n",
            "       'Basophils', 'Mean corpuscular hemoglobin (MCH)', 'Eosinophils',\n",
            "       'Mean corpuscular volume (MCV)', 'Monocytes',\n",
            "       'Red blood cell distribution width (RDW)'],\n",
            "      dtype='object')\n"
          ],
          "name": "stdout"
        }
      ]
    },
    {
      "cell_type": "code",
      "metadata": {
        "id": "wb6NY5mvsK7v"
      },
      "source": [
        "key_col = ['Patient age quantile', 'SARS-Cov-2 exam result']"
      ],
      "execution_count": 6,
      "outputs": []
    },
    {
      "cell_type": "code",
      "metadata": {
        "colab": {
          "base_uri": "https://localhost:8080/",
          "height": 479
        },
        "id": "W1Z25gNYsYyc",
        "outputId": "a0e28bef-5ca8-4d57-a40e-b82c87335bd8"
      },
      "source": [
        "data = data[ key_col + list(sang_col) +  list(maladie_col)]\n",
        "data"
      ],
      "execution_count": 7,
      "outputs": [
        {
          "output_type": "execute_result",
          "data": {
            "text/html": [
              "<div>\n",
              "<style scoped>\n",
              "    .dataframe tbody tr th:only-of-type {\n",
              "        vertical-align: middle;\n",
              "    }\n",
              "\n",
              "    .dataframe tbody tr th {\n",
              "        vertical-align: top;\n",
              "    }\n",
              "\n",
              "    .dataframe thead th {\n",
              "        text-align: right;\n",
              "    }\n",
              "</style>\n",
              "<table border=\"1\" class=\"dataframe\">\n",
              "  <thead>\n",
              "    <tr style=\"text-align: right;\">\n",
              "      <th></th>\n",
              "      <th>Patient age quantile</th>\n",
              "      <th>SARS-Cov-2 exam result</th>\n",
              "      <th>Hematocrit</th>\n",
              "      <th>Hemoglobin</th>\n",
              "      <th>Platelets</th>\n",
              "      <th>Mean platelet volume</th>\n",
              "      <th>Red blood Cells</th>\n",
              "      <th>Lymphocytes</th>\n",
              "      <th>Mean corpuscular hemoglobin concentration (MCHC)</th>\n",
              "      <th>Leukocytes</th>\n",
              "      <th>Basophils</th>\n",
              "      <th>Mean corpuscular hemoglobin (MCH)</th>\n",
              "      <th>Eosinophils</th>\n",
              "      <th>Mean corpuscular volume (MCV)</th>\n",
              "      <th>Monocytes</th>\n",
              "      <th>Red blood cell distribution width (RDW)</th>\n",
              "      <th>Respiratory Syncytial Virus</th>\n",
              "      <th>Influenza A</th>\n",
              "      <th>Influenza B</th>\n",
              "      <th>Parainfluenza 1</th>\n",
              "      <th>CoronavirusNL63</th>\n",
              "      <th>Rhinovirus/Enterovirus</th>\n",
              "      <th>Coronavirus HKU1</th>\n",
              "      <th>Parainfluenza 3</th>\n",
              "      <th>Chlamydophila pneumoniae</th>\n",
              "      <th>Adenovirus</th>\n",
              "      <th>Parainfluenza 4</th>\n",
              "      <th>Coronavirus229E</th>\n",
              "      <th>CoronavirusOC43</th>\n",
              "      <th>Inf A H1N1 2009</th>\n",
              "      <th>Bordetella pertussis</th>\n",
              "      <th>Metapneumovirus</th>\n",
              "      <th>Parainfluenza 2</th>\n",
              "    </tr>\n",
              "  </thead>\n",
              "  <tbody>\n",
              "    <tr>\n",
              "      <th>0</th>\n",
              "      <td>13</td>\n",
              "      <td>negative</td>\n",
              "      <td>NaN</td>\n",
              "      <td>NaN</td>\n",
              "      <td>NaN</td>\n",
              "      <td>NaN</td>\n",
              "      <td>NaN</td>\n",
              "      <td>NaN</td>\n",
              "      <td>NaN</td>\n",
              "      <td>NaN</td>\n",
              "      <td>NaN</td>\n",
              "      <td>NaN</td>\n",
              "      <td>NaN</td>\n",
              "      <td>NaN</td>\n",
              "      <td>NaN</td>\n",
              "      <td>NaN</td>\n",
              "      <td>NaN</td>\n",
              "      <td>NaN</td>\n",
              "      <td>NaN</td>\n",
              "      <td>NaN</td>\n",
              "      <td>NaN</td>\n",
              "      <td>NaN</td>\n",
              "      <td>NaN</td>\n",
              "      <td>NaN</td>\n",
              "      <td>NaN</td>\n",
              "      <td>NaN</td>\n",
              "      <td>NaN</td>\n",
              "      <td>NaN</td>\n",
              "      <td>NaN</td>\n",
              "      <td>NaN</td>\n",
              "      <td>NaN</td>\n",
              "      <td>NaN</td>\n",
              "      <td>NaN</td>\n",
              "    </tr>\n",
              "    <tr>\n",
              "      <th>1</th>\n",
              "      <td>17</td>\n",
              "      <td>negative</td>\n",
              "      <td>0.236515</td>\n",
              "      <td>-0.022340</td>\n",
              "      <td>-0.517413</td>\n",
              "      <td>0.010677</td>\n",
              "      <td>0.102004</td>\n",
              "      <td>0.318366</td>\n",
              "      <td>-0.950790</td>\n",
              "      <td>-0.094610</td>\n",
              "      <td>-0.223767</td>\n",
              "      <td>-0.292269</td>\n",
              "      <td>1.482158</td>\n",
              "      <td>0.166192</td>\n",
              "      <td>0.357547</td>\n",
              "      <td>-0.625073</td>\n",
              "      <td>not_detected</td>\n",
              "      <td>not_detected</td>\n",
              "      <td>not_detected</td>\n",
              "      <td>not_detected</td>\n",
              "      <td>not_detected</td>\n",
              "      <td>detected</td>\n",
              "      <td>not_detected</td>\n",
              "      <td>not_detected</td>\n",
              "      <td>not_detected</td>\n",
              "      <td>not_detected</td>\n",
              "      <td>not_detected</td>\n",
              "      <td>not_detected</td>\n",
              "      <td>not_detected</td>\n",
              "      <td>not_detected</td>\n",
              "      <td>not_detected</td>\n",
              "      <td>not_detected</td>\n",
              "      <td>not_detected</td>\n",
              "    </tr>\n",
              "    <tr>\n",
              "      <th>2</th>\n",
              "      <td>8</td>\n",
              "      <td>negative</td>\n",
              "      <td>NaN</td>\n",
              "      <td>NaN</td>\n",
              "      <td>NaN</td>\n",
              "      <td>NaN</td>\n",
              "      <td>NaN</td>\n",
              "      <td>NaN</td>\n",
              "      <td>NaN</td>\n",
              "      <td>NaN</td>\n",
              "      <td>NaN</td>\n",
              "      <td>NaN</td>\n",
              "      <td>NaN</td>\n",
              "      <td>NaN</td>\n",
              "      <td>NaN</td>\n",
              "      <td>NaN</td>\n",
              "      <td>NaN</td>\n",
              "      <td>NaN</td>\n",
              "      <td>NaN</td>\n",
              "      <td>NaN</td>\n",
              "      <td>NaN</td>\n",
              "      <td>NaN</td>\n",
              "      <td>NaN</td>\n",
              "      <td>NaN</td>\n",
              "      <td>NaN</td>\n",
              "      <td>NaN</td>\n",
              "      <td>NaN</td>\n",
              "      <td>NaN</td>\n",
              "      <td>NaN</td>\n",
              "      <td>NaN</td>\n",
              "      <td>NaN</td>\n",
              "      <td>NaN</td>\n",
              "      <td>NaN</td>\n",
              "    </tr>\n",
              "    <tr>\n",
              "      <th>3</th>\n",
              "      <td>5</td>\n",
              "      <td>negative</td>\n",
              "      <td>NaN</td>\n",
              "      <td>NaN</td>\n",
              "      <td>NaN</td>\n",
              "      <td>NaN</td>\n",
              "      <td>NaN</td>\n",
              "      <td>NaN</td>\n",
              "      <td>NaN</td>\n",
              "      <td>NaN</td>\n",
              "      <td>NaN</td>\n",
              "      <td>NaN</td>\n",
              "      <td>NaN</td>\n",
              "      <td>NaN</td>\n",
              "      <td>NaN</td>\n",
              "      <td>NaN</td>\n",
              "      <td>NaN</td>\n",
              "      <td>NaN</td>\n",
              "      <td>NaN</td>\n",
              "      <td>NaN</td>\n",
              "      <td>NaN</td>\n",
              "      <td>NaN</td>\n",
              "      <td>NaN</td>\n",
              "      <td>NaN</td>\n",
              "      <td>NaN</td>\n",
              "      <td>NaN</td>\n",
              "      <td>NaN</td>\n",
              "      <td>NaN</td>\n",
              "      <td>NaN</td>\n",
              "      <td>NaN</td>\n",
              "      <td>NaN</td>\n",
              "      <td>NaN</td>\n",
              "      <td>NaN</td>\n",
              "    </tr>\n",
              "    <tr>\n",
              "      <th>4</th>\n",
              "      <td>15</td>\n",
              "      <td>negative</td>\n",
              "      <td>NaN</td>\n",
              "      <td>NaN</td>\n",
              "      <td>NaN</td>\n",
              "      <td>NaN</td>\n",
              "      <td>NaN</td>\n",
              "      <td>NaN</td>\n",
              "      <td>NaN</td>\n",
              "      <td>NaN</td>\n",
              "      <td>NaN</td>\n",
              "      <td>NaN</td>\n",
              "      <td>NaN</td>\n",
              "      <td>NaN</td>\n",
              "      <td>NaN</td>\n",
              "      <td>NaN</td>\n",
              "      <td>not_detected</td>\n",
              "      <td>not_detected</td>\n",
              "      <td>not_detected</td>\n",
              "      <td>not_detected</td>\n",
              "      <td>not_detected</td>\n",
              "      <td>detected</td>\n",
              "      <td>not_detected</td>\n",
              "      <td>not_detected</td>\n",
              "      <td>not_detected</td>\n",
              "      <td>not_detected</td>\n",
              "      <td>not_detected</td>\n",
              "      <td>not_detected</td>\n",
              "      <td>not_detected</td>\n",
              "      <td>not_detected</td>\n",
              "      <td>not_detected</td>\n",
              "      <td>not_detected</td>\n",
              "      <td>not_detected</td>\n",
              "    </tr>\n",
              "    <tr>\n",
              "      <th>...</th>\n",
              "      <td>...</td>\n",
              "      <td>...</td>\n",
              "      <td>...</td>\n",
              "      <td>...</td>\n",
              "      <td>...</td>\n",
              "      <td>...</td>\n",
              "      <td>...</td>\n",
              "      <td>...</td>\n",
              "      <td>...</td>\n",
              "      <td>...</td>\n",
              "      <td>...</td>\n",
              "      <td>...</td>\n",
              "      <td>...</td>\n",
              "      <td>...</td>\n",
              "      <td>...</td>\n",
              "      <td>...</td>\n",
              "      <td>...</td>\n",
              "      <td>...</td>\n",
              "      <td>...</td>\n",
              "      <td>...</td>\n",
              "      <td>...</td>\n",
              "      <td>...</td>\n",
              "      <td>...</td>\n",
              "      <td>...</td>\n",
              "      <td>...</td>\n",
              "      <td>...</td>\n",
              "      <td>...</td>\n",
              "      <td>...</td>\n",
              "      <td>...</td>\n",
              "      <td>...</td>\n",
              "      <td>...</td>\n",
              "      <td>...</td>\n",
              "      <td>...</td>\n",
              "    </tr>\n",
              "    <tr>\n",
              "      <th>5639</th>\n",
              "      <td>3</td>\n",
              "      <td>positive</td>\n",
              "      <td>NaN</td>\n",
              "      <td>NaN</td>\n",
              "      <td>NaN</td>\n",
              "      <td>NaN</td>\n",
              "      <td>NaN</td>\n",
              "      <td>NaN</td>\n",
              "      <td>NaN</td>\n",
              "      <td>NaN</td>\n",
              "      <td>NaN</td>\n",
              "      <td>NaN</td>\n",
              "      <td>NaN</td>\n",
              "      <td>NaN</td>\n",
              "      <td>NaN</td>\n",
              "      <td>NaN</td>\n",
              "      <td>NaN</td>\n",
              "      <td>NaN</td>\n",
              "      <td>NaN</td>\n",
              "      <td>NaN</td>\n",
              "      <td>NaN</td>\n",
              "      <td>NaN</td>\n",
              "      <td>NaN</td>\n",
              "      <td>NaN</td>\n",
              "      <td>NaN</td>\n",
              "      <td>NaN</td>\n",
              "      <td>NaN</td>\n",
              "      <td>NaN</td>\n",
              "      <td>NaN</td>\n",
              "      <td>NaN</td>\n",
              "      <td>NaN</td>\n",
              "      <td>NaN</td>\n",
              "      <td>NaN</td>\n",
              "    </tr>\n",
              "    <tr>\n",
              "      <th>5640</th>\n",
              "      <td>17</td>\n",
              "      <td>negative</td>\n",
              "      <td>NaN</td>\n",
              "      <td>NaN</td>\n",
              "      <td>NaN</td>\n",
              "      <td>NaN</td>\n",
              "      <td>NaN</td>\n",
              "      <td>NaN</td>\n",
              "      <td>NaN</td>\n",
              "      <td>NaN</td>\n",
              "      <td>NaN</td>\n",
              "      <td>NaN</td>\n",
              "      <td>NaN</td>\n",
              "      <td>NaN</td>\n",
              "      <td>NaN</td>\n",
              "      <td>NaN</td>\n",
              "      <td>NaN</td>\n",
              "      <td>NaN</td>\n",
              "      <td>NaN</td>\n",
              "      <td>NaN</td>\n",
              "      <td>NaN</td>\n",
              "      <td>NaN</td>\n",
              "      <td>NaN</td>\n",
              "      <td>NaN</td>\n",
              "      <td>NaN</td>\n",
              "      <td>NaN</td>\n",
              "      <td>NaN</td>\n",
              "      <td>NaN</td>\n",
              "      <td>NaN</td>\n",
              "      <td>NaN</td>\n",
              "      <td>NaN</td>\n",
              "      <td>NaN</td>\n",
              "      <td>NaN</td>\n",
              "    </tr>\n",
              "    <tr>\n",
              "      <th>5641</th>\n",
              "      <td>4</td>\n",
              "      <td>negative</td>\n",
              "      <td>NaN</td>\n",
              "      <td>NaN</td>\n",
              "      <td>NaN</td>\n",
              "      <td>NaN</td>\n",
              "      <td>NaN</td>\n",
              "      <td>NaN</td>\n",
              "      <td>NaN</td>\n",
              "      <td>NaN</td>\n",
              "      <td>NaN</td>\n",
              "      <td>NaN</td>\n",
              "      <td>NaN</td>\n",
              "      <td>NaN</td>\n",
              "      <td>NaN</td>\n",
              "      <td>NaN</td>\n",
              "      <td>NaN</td>\n",
              "      <td>NaN</td>\n",
              "      <td>NaN</td>\n",
              "      <td>NaN</td>\n",
              "      <td>NaN</td>\n",
              "      <td>NaN</td>\n",
              "      <td>NaN</td>\n",
              "      <td>NaN</td>\n",
              "      <td>NaN</td>\n",
              "      <td>NaN</td>\n",
              "      <td>NaN</td>\n",
              "      <td>NaN</td>\n",
              "      <td>NaN</td>\n",
              "      <td>NaN</td>\n",
              "      <td>NaN</td>\n",
              "      <td>NaN</td>\n",
              "      <td>NaN</td>\n",
              "    </tr>\n",
              "    <tr>\n",
              "      <th>5642</th>\n",
              "      <td>10</td>\n",
              "      <td>negative</td>\n",
              "      <td>NaN</td>\n",
              "      <td>NaN</td>\n",
              "      <td>NaN</td>\n",
              "      <td>NaN</td>\n",
              "      <td>NaN</td>\n",
              "      <td>NaN</td>\n",
              "      <td>NaN</td>\n",
              "      <td>NaN</td>\n",
              "      <td>NaN</td>\n",
              "      <td>NaN</td>\n",
              "      <td>NaN</td>\n",
              "      <td>NaN</td>\n",
              "      <td>NaN</td>\n",
              "      <td>NaN</td>\n",
              "      <td>NaN</td>\n",
              "      <td>NaN</td>\n",
              "      <td>NaN</td>\n",
              "      <td>NaN</td>\n",
              "      <td>NaN</td>\n",
              "      <td>NaN</td>\n",
              "      <td>NaN</td>\n",
              "      <td>NaN</td>\n",
              "      <td>NaN</td>\n",
              "      <td>NaN</td>\n",
              "      <td>NaN</td>\n",
              "      <td>NaN</td>\n",
              "      <td>NaN</td>\n",
              "      <td>NaN</td>\n",
              "      <td>NaN</td>\n",
              "      <td>NaN</td>\n",
              "      <td>NaN</td>\n",
              "    </tr>\n",
              "    <tr>\n",
              "      <th>5643</th>\n",
              "      <td>19</td>\n",
              "      <td>positive</td>\n",
              "      <td>0.694287</td>\n",
              "      <td>0.541564</td>\n",
              "      <td>-0.906829</td>\n",
              "      <td>-0.325903</td>\n",
              "      <td>0.578024</td>\n",
              "      <td>-0.295726</td>\n",
              "      <td>-0.353319</td>\n",
              "      <td>-1.288428</td>\n",
              "      <td>-1.140144</td>\n",
              "      <td>-0.135455</td>\n",
              "      <td>-0.835508</td>\n",
              "      <td>0.025985</td>\n",
              "      <td>0.567652</td>\n",
              "      <td>-0.182790</td>\n",
              "      <td>NaN</td>\n",
              "      <td>NaN</td>\n",
              "      <td>NaN</td>\n",
              "      <td>NaN</td>\n",
              "      <td>NaN</td>\n",
              "      <td>NaN</td>\n",
              "      <td>NaN</td>\n",
              "      <td>NaN</td>\n",
              "      <td>NaN</td>\n",
              "      <td>NaN</td>\n",
              "      <td>NaN</td>\n",
              "      <td>NaN</td>\n",
              "      <td>NaN</td>\n",
              "      <td>NaN</td>\n",
              "      <td>NaN</td>\n",
              "      <td>NaN</td>\n",
              "      <td>NaN</td>\n",
              "    </tr>\n",
              "  </tbody>\n",
              "</table>\n",
              "<p>5644 rows × 33 columns</p>\n",
              "</div>"
            ],
            "text/plain": [
              "      Patient age quantile  ... Parainfluenza 2\n",
              "0                       13  ...             NaN\n",
              "1                       17  ...    not_detected\n",
              "2                        8  ...             NaN\n",
              "3                        5  ...             NaN\n",
              "4                       15  ...    not_detected\n",
              "...                    ...  ...             ...\n",
              "5639                     3  ...             NaN\n",
              "5640                    17  ...             NaN\n",
              "5641                     4  ...             NaN\n",
              "5642                    10  ...             NaN\n",
              "5643                    19  ...             NaN\n",
              "\n",
              "[5644 rows x 33 columns]"
            ]
          },
          "metadata": {
            "tags": []
          },
          "execution_count": 7
        }
      ]
    },
    {
      "cell_type": "code",
      "metadata": {
        "id": "BB_n65loyUA4"
      },
      "source": [
        "# train set et test set\n",
        "train_set, test_set = train_test_split(data, test_size = 0.2, random_state=0 )"
      ],
      "execution_count": 8,
      "outputs": []
    },
    {
      "cell_type": "code",
      "metadata": {
        "colab": {
          "base_uri": "https://localhost:8080/"
        },
        "id": "DiUoZDizy3z0",
        "outputId": "65a4940f-ef50-4ef7-8d85-01dc5741e475"
      },
      "source": [
        "train_set['SARS-Cov-2 exam result'].value_counts()"
      ],
      "execution_count": 9,
      "outputs": [
        {
          "output_type": "execute_result",
          "data": {
            "text/plain": [
              "negative    4068\n",
              "positive     447\n",
              "Name: SARS-Cov-2 exam result, dtype: int64"
            ]
          },
          "metadata": {
            "tags": []
          },
          "execution_count": 9
        }
      ]
    },
    {
      "cell_type": "code",
      "metadata": {
        "colab": {
          "base_uri": "https://localhost:8080/"
        },
        "id": "C8DODfZCXVaM",
        "outputId": "b5ecf2ad-00ee-49c5-d564-39daa59e96cf"
      },
      "source": [
        "test_set['SARS-Cov-2 exam result'].value_counts()"
      ],
      "execution_count": 10,
      "outputs": [
        {
          "output_type": "execute_result",
          "data": {
            "text/plain": [
              "negative    1018\n",
              "positive     111\n",
              "Name: SARS-Cov-2 exam result, dtype: int64"
            ]
          },
          "metadata": {
            "tags": []
          },
          "execution_count": 10
        }
      ]
    },
    {
      "cell_type": "code",
      "metadata": {
        "id": "OhYxvrNDXXsd"
      },
      "source": [
        "# Encodage\n",
        "def encodage(x):\n",
        "  for i in x.select_dtypes('object') :\n",
        "   x.loc[:,i] = x[i].map( {\"positive\":1, \"negative\":0, \"detected\":1, \"not_detected\":0} )\n",
        "  #x.loc[:,\"SARS-Cov-2 exam result\"] = x[\"SARS-Cov-2 exam result\"].map( {\"positive\":1, \"negative\":0} )\n",
        "  return x\n"
      ],
      "execution_count": 11,
      "outputs": []
    },
    {
      "cell_type": "code",
      "metadata": {
        "id": "f7zNdO2XzLoj"
      },
      "source": [
        "def feature_engineering(x):\n",
        "  x['maladie']= x.loc[:, maladie_col].sum(axis=1) >=1\n",
        "  x = x.drop(maladie_col, axis =1)\n",
        "  return x"
      ],
      "execution_count": 12,
      "outputs": []
    },
    {
      "cell_type": "code",
      "metadata": {
        "id": "VuAN3NKUv1iV"
      },
      "source": [
        "# Imputation\n",
        "def imputation(x):\n",
        "  return x.dropna(axis=0)"
      ],
      "execution_count": 13,
      "outputs": []
    },
    {
      "cell_type": "code",
      "metadata": {
        "id": "XVub_M6JyIyb"
      },
      "source": [
        "# preprocessing\n",
        "def preprocessing(x):\n",
        "  x= encodage(x)\n",
        "  x= imputation(x)\n",
        "\n",
        "  y = x[\"SARS-Cov-2 exam result\"] \n",
        "  W = x.drop(\"SARS-Cov-2 exam result\", axis = 1)\n",
        "\n",
        "  print(y.value_counts())\n",
        "  return W, y"
      ],
      "execution_count": 14,
      "outputs": []
    },
    {
      "cell_type": "code",
      "metadata": {
        "id": "Bm-ZYjG-1Ris"
      },
      "source": [
        "# preprocessing\n",
        "def preprocessing_feature_engineering(x):\n",
        "  x= encodage(x)\n",
        "  x= feature_engineering(x)\n",
        "  x= imputation(x)\n",
        "\n",
        "  y = x[\"SARS-Cov-2 exam result\"] \n",
        "  W = x.drop(\"SARS-Cov-2 exam result\", axis = 1)\n",
        "\n",
        "  print(y.value_counts())\n",
        "  return W, y"
      ],
      "execution_count": 15,
      "outputs": []
    },
    {
      "cell_type": "code",
      "metadata": {
        "colab": {
          "base_uri": "https://localhost:8080/"
        },
        "id": "meX5e0IshP1V",
        "outputId": "d879ff17-b0ec-4506-df6a-9f60d7d7900f"
      },
      "source": [
        "\n",
        "X_train, y_train = preprocessing(train_set)\n",
        "X_test, y_test = preprocessing(test_set)\n"
      ],
      "execution_count": 16,
      "outputs": [
        {
          "output_type": "stream",
          "text": [
            "0    258\n",
            "1     38\n",
            "Name: SARS-Cov-2 exam result, dtype: int64\n",
            "0    54\n",
            "1    12\n",
            "Name: SARS-Cov-2 exam result, dtype: int64\n"
          ],
          "name": "stdout"
        },
        {
          "output_type": "stream",
          "text": [
            "/usr/local/lib/python3.7/dist-packages/pandas/core/indexing.py:1743: SettingWithCopyWarning: \n",
            "A value is trying to be set on a copy of a slice from a DataFrame.\n",
            "Try using .loc[row_indexer,col_indexer] = value instead\n",
            "\n",
            "See the caveats in the documentation: https://pandas.pydata.org/pandas-docs/stable/user_guide/indexing.html#returning-a-view-versus-a-copy\n",
            "  isetter(ilocs[0], value)\n",
            "/usr/local/lib/python3.7/dist-packages/pandas/core/indexing.py:1743: SettingWithCopyWarning: \n",
            "A value is trying to be set on a copy of a slice from a DataFrame.\n",
            "Try using .loc[row_indexer,col_indexer] = value instead\n",
            "\n",
            "See the caveats in the documentation: https://pandas.pydata.org/pandas-docs/stable/user_guide/indexing.html#returning-a-view-versus-a-copy\n",
            "  isetter(ilocs[0], value)\n"
          ],
          "name": "stderr"
        }
      ]
    },
    {
      "cell_type": "code",
      "metadata": {
        "id": "wD3jz_vM8WXW"
      },
      "source": [
        "# Modélisation\n",
        "\n",
        "from sklearn.tree import DecisionTreeClassifier\n",
        "from sklearn.ensemble import RandomForestClassifier\n",
        "from sklearn.pipeline import make_pipeline\n",
        "from sklearn.feature_selection import SelectKBest, f_classif # SelectKbest pour sélectionner les k meilleures variables à l'aide d'une fonction et f_classif pour faire un test d'anova\n",
        "from sklearn.preprocessing import PolynomialFeatures\n",
        "from sklearn.decomposition import PCA\n",
        "\n",
        "model_1 = DecisionTreeClassifier(random_state=0) # random_state pour fixer les valeurs aléatoires\n",
        "model_2 = RandomForestClassifier(random_state =0)\n",
        "\n",
        "#model_p_v1 = make_pipeline(SelectKBest(f_classif, k = 8), RandomForestClassifier(random_state=0)) # plusieurs modèles en fonction de k\n",
        "#model_p_v2 = make_pipeline(PolynomialFeatures(2) , SelectKBest(f_classif, k = 8), RandomForestClassifier(random_state=0))\n"
      ],
      "execution_count": 17,
      "outputs": []
    },
    {
      "cell_type": "code",
      "metadata": {
        "id": "ZTWVR2jVyj0e"
      },
      "source": [
        "from sklearn.metrics import f1_score, confusion_matrix, classification_report\n",
        "from sklearn.model_selection import learning_curve\n",
        "\n",
        "# f1-score pour visualiser le rapport entre le précision et la sensibilité (recall). Ces sont des métriques qui nous permet de déterminer l'erreur de type I et l'erreur de type II.\n",
        "# learning_curve pour voir si on est en underfitting ou overfitting\n",
        "\n"
      ],
      "execution_count": 18,
      "outputs": []
    },
    {
      "cell_type": "code",
      "metadata": {
        "id": "x3xZYyKoz5_S"
      },
      "source": [
        "def evaluation(model):\n",
        "\n",
        "  model.fit(X_train, y_train)\n",
        "  y_pred = model.predict(X_test)\n",
        "\n",
        "  print(confusion_matrix(y_test, y_pred))\n",
        "  print(classification_report(y_test, y_pred)) \n",
        "\n",
        "  print(classification_report(y_train,model.predict(X_train) ))\n",
        "\n",
        "  N, train_score, val_score = learning_curve(model, X_train, y_train, cv = 4, scoring = 'f1', train_sizes = np.linspace(0.1, 1, 10) )\n",
        "\n",
        "  plt.figure(figsize = (10,6))\n",
        "  plt.plot(N, train_score.mean(axis=1), label =\"train_score\")\n",
        "  plt.plot(N, val_score.mean(axis=1), label =\"cross_validation_score\")\n",
        "\n",
        "  plt.legend()\n"
      ],
      "execution_count": 19,
      "outputs": []
    },
    {
      "cell_type": "code",
      "metadata": {
        "colab": {
          "base_uri": "https://localhost:8080/",
          "height": 719
        },
        "id": "mzH-9wdcz6CI",
        "outputId": "4e2af86c-04ad-4477-86a6-55f9f1c1d64f"
      },
      "source": [
        "evaluation(model_1)"
      ],
      "execution_count": 20,
      "outputs": [
        {
          "output_type": "stream",
          "text": [
            "[[52  2]\n",
            " [10  2]]\n",
            "              precision    recall  f1-score   support\n",
            "\n",
            "           0       0.84      0.96      0.90        54\n",
            "           1       0.50      0.17      0.25        12\n",
            "\n",
            "    accuracy                           0.82        66\n",
            "   macro avg       0.67      0.56      0.57        66\n",
            "weighted avg       0.78      0.82      0.78        66\n",
            "\n",
            "              precision    recall  f1-score   support\n",
            "\n",
            "           0       1.00      1.00      1.00       258\n",
            "           1       1.00      1.00      1.00        38\n",
            "\n",
            "    accuracy                           1.00       296\n",
            "   macro avg       1.00      1.00      1.00       296\n",
            "weighted avg       1.00      1.00      1.00       296\n",
            "\n"
          ],
          "name": "stdout"
        },
        {
          "output_type": "display_data",
          "data": {
            "image/png": "[encoded data removed]",
            "text/plain": [
              "<Figure size 720x432 with 1 Axes>"
            ]
          },
          "metadata": {
            "tags": [],
            "needs_background": "light"
          }
        }
      ]
    },
    {
      "cell_type": "code",
      "metadata": {
        "colab": {
          "base_uri": "https://localhost:8080/",
          "height": 1000
        },
        "id": "qmIYHgyk1GGU",
        "outputId": "7c2e116a-a2bf-4954-c818-329bbe2db83e"
      },
      "source": [
        " # features selection\n",
        "print(pd.DataFrame(model_1.feature_importances_, index = X_train.columns).sort_values(0, ascending =False ) )\n",
        "pd.DataFrame(model_1.feature_importances_, index = X_train.columns).plot.bar(figsize=(10,4) )\n"
      ],
      "execution_count": 21,
      "outputs": [
        {
          "output_type": "stream",
          "text": [
            "                                                         0\n",
            "Leukocytes                                        0.222302\n",
            "Platelets                                         0.161302\n",
            "Red blood Cells                                   0.140046\n",
            "Influenza B                                       0.078269\n",
            "Eosinophils                                       0.065086\n",
            "Red blood cell distribution width (RDW)           0.059761\n",
            "Mean corpuscular hemoglobin concentration (MCHC)  0.047603\n",
            "Inf A H1N1 2009                                   0.046836\n",
            "Mean platelet volume                              0.033966\n",
            "Metapneumovirus                                   0.028879\n",
            "Mean corpuscular volume (MCV)                     0.028179\n",
            "Mean corpuscular hemoglobin (MCH)                 0.026472\n",
            "Basophils                                         0.024153\n",
            "Rhinovirus/Enterovirus                            0.020128\n",
            "Hematocrit                                        0.007749\n",
            "Monocytes                                         0.005001\n",
            "Lymphocytes                                       0.004266\n",
            "CoronavirusOC43                                   0.000000\n",
            "Coronavirus229E                                   0.000000\n",
            "Patient age quantile                              0.000000\n",
            "Bordetella pertussis                              0.000000\n",
            "Adenovirus                                        0.000000\n",
            "Parainfluenza 4                                   0.000000\n",
            "Influenza A                                       0.000000\n",
            "Chlamydophila pneumoniae                          0.000000\n",
            "Parainfluenza 3                                   0.000000\n",
            "Coronavirus HKU1                                  0.000000\n",
            "CoronavirusNL63                                   0.000000\n",
            "Parainfluenza 1                                   0.000000\n",
            "Respiratory Syncytial Virus                       0.000000\n",
            "Hemoglobin                                        0.000000\n",
            "Parainfluenza 2                                   0.000000\n"
          ],
          "name": "stdout"
        },
        {
          "output_type": "execute_result",
          "data": {
            "text/plain": [
              "<matplotlib.axes._subplots.AxesSubplot at 0x7f364d7c2d90>"
            ]
          },
          "metadata": {
            "tags": []
          },
          "execution_count": 21
        },
        {
          "output_type": "display_data",
          "data": {
            "image/png": "[encoded data removed]",
            "text/plain": [
              "<Figure size 720x288 with 1 Axes>"
            ]
          },
          "metadata": {
            "tags": [],
            "needs_background": "light"
          }
        }
      ]
    },
    {
      "cell_type": "code",
      "metadata": {
        "colab": {
          "base_uri": "https://localhost:8080/",
          "height": 1000
        },
        "id": "-jhSZs4rAdbq",
        "outputId": "7631ff57-46bc-4f98-c934-4b5c3bcdcd17"
      },
      "source": [
        "# ARBRES DE DECISION SUR DATA_1\n",
        "# nouvelle base de données contenant les caractéristiques sanguines\n",
        "data_2 = data[ key_col + list(sang_col)]\n",
        "\n",
        "# train set et test set\n",
        "train_set, test_set = train_test_split(data_2, test_size = 0.2, random_state=0 )\n",
        "#preprocessing\n",
        "X_train, y_train = preprocessing(train_set)\n",
        "X_test, y_test = preprocessing(test_set)\n",
        "#evaluation\n",
        "evaluation(model_1)"
      ],
      "execution_count": 22,
      "outputs": [
        {
          "output_type": "stream",
          "text": [
            "/usr/local/lib/python3.7/dist-packages/pandas/core/indexing.py:1743: SettingWithCopyWarning: \n",
            "A value is trying to be set on a copy of a slice from a DataFrame.\n",
            "Try using .loc[row_indexer,col_indexer] = value instead\n",
            "\n",
            "See the caveats in the documentation: https://pandas.pydata.org/pandas-docs/stable/user_guide/indexing.html#returning-a-view-versus-a-copy\n",
            "  isetter(ilocs[0], value)\n",
            "/usr/local/lib/python3.7/dist-packages/pandas/core/indexing.py:1743: SettingWithCopyWarning: \n",
            "A value is trying to be set on a copy of a slice from a DataFrame.\n",
            "Try using .loc[row_indexer,col_indexer] = value instead\n",
            "\n",
            "See the caveats in the documentation: https://pandas.pydata.org/pandas-docs/stable/user_guide/indexing.html#returning-a-view-versus-a-copy\n",
            "  isetter(ilocs[0], value)\n"
          ],
          "name": "stderr"
        },
        {
          "output_type": "stream",
          "text": [
            "0    422\n",
            "1     65\n",
            "Name: SARS-Cov-2 exam result, dtype: int64\n",
            "0    95\n",
            "1    16\n",
            "Name: SARS-Cov-2 exam result, dtype: int64\n",
            "[[87  8]\n",
            " [10  6]]\n",
            "              precision    recall  f1-score   support\n",
            "\n",
            "           0       0.90      0.92      0.91        95\n",
            "           1       0.43      0.38      0.40        16\n",
            "\n",
            "    accuracy                           0.84       111\n",
            "   macro avg       0.66      0.65      0.65       111\n",
            "weighted avg       0.83      0.84      0.83       111\n",
            "\n",
            "              precision    recall  f1-score   support\n",
            "\n",
            "           0       1.00      1.00      1.00       422\n",
            "           1       1.00      1.00      1.00        65\n",
            "\n",
            "    accuracy                           1.00       487\n",
            "   macro avg       1.00      1.00      1.00       487\n",
            "weighted avg       1.00      1.00      1.00       487\n",
            "\n"
          ],
          "name": "stdout"
        },
        {
          "output_type": "display_data",
          "data": {
            "image/png": "[encoded data removed]",
            "text/plain": [
              "<Figure size 720x432 with 1 Axes>"
            ]
          },
          "metadata": {
            "tags": [],
            "needs_background": "light"
          }
        }
      ]
    },
    {
      "cell_type": "code",
      "metadata": {
        "colab": {
          "base_uri": "https://localhost:8080/",
          "height": 1000
        },
        "id": "LPXWhunwi8dx",
        "outputId": "5507ed84-0a67-4c83-9feb-a5dd5de77ae7"
      },
      "source": [
        "# ARBRES DE DECISION SUR DATA_2\n",
        "# train set et test set\n",
        "train_set, test_set = train_test_split(data_2, test_size = 0.2, random_state=0 )\n",
        "#preprocessing\n",
        "X_train, y_train =preprocessing(train_set)\n",
        "X_test, y_test =preprocessing(test_set)\n",
        "#evaluation\n",
        "evaluation(model_1)"
      ],
      "execution_count": 23,
      "outputs": [
        {
          "output_type": "stream",
          "text": [
            "/usr/local/lib/python3.7/dist-packages/pandas/core/indexing.py:1743: SettingWithCopyWarning: \n",
            "A value is trying to be set on a copy of a slice from a DataFrame.\n",
            "Try using .loc[row_indexer,col_indexer] = value instead\n",
            "\n",
            "See the caveats in the documentation: https://pandas.pydata.org/pandas-docs/stable/user_guide/indexing.html#returning-a-view-versus-a-copy\n",
            "  isetter(ilocs[0], value)\n",
            "/usr/local/lib/python3.7/dist-packages/pandas/core/indexing.py:1743: SettingWithCopyWarning: \n",
            "A value is trying to be set on a copy of a slice from a DataFrame.\n",
            "Try using .loc[row_indexer,col_indexer] = value instead\n",
            "\n",
            "See the caveats in the documentation: https://pandas.pydata.org/pandas-docs/stable/user_guide/indexing.html#returning-a-view-versus-a-copy\n",
            "  isetter(ilocs[0], value)\n"
          ],
          "name": "stderr"
        },
        {
          "output_type": "stream",
          "text": [
            "0    422\n",
            "1     65\n",
            "Name: SARS-Cov-2 exam result, dtype: int64\n",
            "0    95\n",
            "1    16\n",
            "Name: SARS-Cov-2 exam result, dtype: int64\n",
            "[[87  8]\n",
            " [10  6]]\n",
            "              precision    recall  f1-score   support\n",
            "\n",
            "           0       0.90      0.92      0.91        95\n",
            "           1       0.43      0.38      0.40        16\n",
            "\n",
            "    accuracy                           0.84       111\n",
            "   macro avg       0.66      0.65      0.65       111\n",
            "weighted avg       0.83      0.84      0.83       111\n",
            "\n",
            "              precision    recall  f1-score   support\n",
            "\n",
            "           0       1.00      1.00      1.00       422\n",
            "           1       1.00      1.00      1.00        65\n",
            "\n",
            "    accuracy                           1.00       487\n",
            "   macro avg       1.00      1.00      1.00       487\n",
            "weighted avg       1.00      1.00      1.00       487\n",
            "\n"
          ],
          "name": "stdout"
        },
        {
          "output_type": "display_data",
          "data": {
            "image/png": "[encoded data removed]",
            "text/plain": [
              "<Figure size 720x432 with 1 Axes>"
            ]
          },
          "metadata": {
            "tags": [],
            "needs_background": "light"
          }
        }
      ]
    },
    {
      "cell_type": "code",
      "metadata": {
        "colab": {
          "base_uri": "https://localhost:8080/",
          "height": 1000
        },
        "id": "o5QIG8rqjW-X",
        "outputId": "1fda13ed-b169-486d-82c2-abe0b55281d1"
      },
      "source": [
        "# RANDOM FOREST\n",
        "# train set et test set\n",
        "train_set, test_set = train_test_split(data_2, test_size = 0.2, random_state=0 )\n",
        "#preprocessing\n",
        "X_train, y_train =preprocessing(train_set)\n",
        "X_test, y_test =preprocessing(test_set)\n",
        "#evaluation\n",
        "\n",
        "evaluation(model_2)"
      ],
      "execution_count": 24,
      "outputs": [
        {
          "output_type": "stream",
          "text": [
            "/usr/local/lib/python3.7/dist-packages/pandas/core/indexing.py:1743: SettingWithCopyWarning: \n",
            "A value is trying to be set on a copy of a slice from a DataFrame.\n",
            "Try using .loc[row_indexer,col_indexer] = value instead\n",
            "\n",
            "See the caveats in the documentation: https://pandas.pydata.org/pandas-docs/stable/user_guide/indexing.html#returning-a-view-versus-a-copy\n",
            "  isetter(ilocs[0], value)\n",
            "/usr/local/lib/python3.7/dist-packages/pandas/core/indexing.py:1743: SettingWithCopyWarning: \n",
            "A value is trying to be set on a copy of a slice from a DataFrame.\n",
            "Try using .loc[row_indexer,col_indexer] = value instead\n",
            "\n",
            "See the caveats in the documentation: https://pandas.pydata.org/pandas-docs/stable/user_guide/indexing.html#returning-a-view-versus-a-copy\n",
            "  isetter(ilocs[0], value)\n"
          ],
          "name": "stderr"
        },
        {
          "output_type": "stream",
          "text": [
            "0    422\n",
            "1     65\n",
            "Name: SARS-Cov-2 exam result, dtype: int64\n",
            "0    95\n",
            "1    16\n",
            "Name: SARS-Cov-2 exam result, dtype: int64\n",
            "[[94  1]\n",
            " [14  2]]\n",
            "              precision    recall  f1-score   support\n",
            "\n",
            "           0       0.87      0.99      0.93        95\n",
            "           1       0.67      0.12      0.21        16\n",
            "\n",
            "    accuracy                           0.86       111\n",
            "   macro avg       0.77      0.56      0.57       111\n",
            "weighted avg       0.84      0.86      0.82       111\n",
            "\n",
            "              precision    recall  f1-score   support\n",
            "\n",
            "           0       1.00      1.00      1.00       422\n",
            "           1       1.00      1.00      1.00        65\n",
            "\n",
            "    accuracy                           1.00       487\n",
            "   macro avg       1.00      1.00      1.00       487\n",
            "weighted avg       1.00      1.00      1.00       487\n",
            "\n"
          ],
          "name": "stdout"
        },
        {
          "output_type": "display_data",
          "data": {
            "image/png": "[encoded data removed]",
            "text/plain": [
              "<Figure size 720x432 with 1 Axes>"
            ]
          },
          "metadata": {
            "tags": [],
            "needs_background": "light"
          }
        }
      ]
    },
    {
      "cell_type": "code",
      "metadata": {
        "colab": {
          "base_uri": "https://localhost:8080/",
          "height": 1000
        },
        "id": "ImdvRFl5rgtN",
        "outputId": "fc848484-6bd7-4c3e-d3b1-72d18544db68"
      },
      "source": [
        "# RANDOM FOREST\n",
        "# train set et test set\n",
        "train_set, test_set = train_test_split(data, test_size = 0.2, random_state=0 )\n",
        "#preprocessing\n",
        "X_train, y_train =preprocessing_feature_engineering(train_set)\n",
        "X_test, y_test =preprocessing_feature_engineering(test_set)\n",
        "#evaluation\n",
        "evaluation(model_2)"
      ],
      "execution_count": 31,
      "outputs": [
        {
          "output_type": "stream",
          "text": [
            "/usr/local/lib/python3.7/dist-packages/pandas/core/indexing.py:1743: SettingWithCopyWarning: \n",
            "A value is trying to be set on a copy of a slice from a DataFrame.\n",
            "Try using .loc[row_indexer,col_indexer] = value instead\n",
            "\n",
            "See the caveats in the documentation: https://pandas.pydata.org/pandas-docs/stable/user_guide/indexing.html#returning-a-view-versus-a-copy\n",
            "  isetter(ilocs[0], value)\n",
            "/usr/local/lib/python3.7/dist-packages/ipykernel_launcher.py:2: SettingWithCopyWarning: \n",
            "A value is trying to be set on a copy of a slice from a DataFrame.\n",
            "Try using .loc[row_indexer,col_indexer] = value instead\n",
            "\n",
            "See the caveats in the documentation: https://pandas.pydata.org/pandas-docs/stable/user_guide/indexing.html#returning-a-view-versus-a-copy\n",
            "  \n",
            "/usr/local/lib/python3.7/dist-packages/pandas/core/indexing.py:1743: SettingWithCopyWarning: \n",
            "A value is trying to be set on a copy of a slice from a DataFrame.\n",
            "Try using .loc[row_indexer,col_indexer] = value instead\n",
            "\n",
            "See the caveats in the documentation: https://pandas.pydata.org/pandas-docs/stable/user_guide/indexing.html#returning-a-view-versus-a-copy\n",
            "  isetter(ilocs[0], value)\n",
            "/usr/local/lib/python3.7/dist-packages/ipykernel_launcher.py:2: SettingWithCopyWarning: \n",
            "A value is trying to be set on a copy of a slice from a DataFrame.\n",
            "Try using .loc[row_indexer,col_indexer] = value instead\n",
            "\n",
            "See the caveats in the documentation: https://pandas.pydata.org/pandas-docs/stable/user_guide/indexing.html#returning-a-view-versus-a-copy\n",
            "  \n"
          ],
          "name": "stderr"
        },
        {
          "output_type": "stream",
          "text": [
            "0    422\n",
            "1     65\n",
            "Name: SARS-Cov-2 exam result, dtype: int64\n",
            "0    95\n",
            "1    16\n",
            "Name: SARS-Cov-2 exam result, dtype: int64\n",
            "[[92  3]\n",
            " [13  3]]\n",
            "              precision    recall  f1-score   support\n",
            "\n",
            "           0       0.88      0.97      0.92        95\n",
            "           1       0.50      0.19      0.27        16\n",
            "\n",
            "    accuracy                           0.86       111\n",
            "   macro avg       0.69      0.58      0.60       111\n",
            "weighted avg       0.82      0.86      0.83       111\n",
            "\n",
            "              precision    recall  f1-score   support\n",
            "\n",
            "           0       1.00      1.00      1.00       422\n",
            "           1       1.00      1.00      1.00        65\n",
            "\n",
            "    accuracy                           1.00       487\n",
            "   macro avg       1.00      1.00      1.00       487\n",
            "weighted avg       1.00      1.00      1.00       487\n",
            "\n"
          ],
          "name": "stdout"
        },
        {
          "output_type": "display_data",
          "data": {
            "image/png": "[encoded data removed]",
            "text/plain": [
              "<Figure size 720x432 with 1 Axes>"
            ]
          },
          "metadata": {
            "tags": [],
            "needs_background": "light"
          }
        }
      ]
    },
    {
      "cell_type": "code",
      "metadata": {
        "colab": {
          "base_uri": "https://localhost:8080/",
          "height": 719
        },
        "id": "6glLGyfh3KUS",
        "outputId": "c554c686-c0cd-44d1-f936-f14f2b7db470"
      },
      "source": [
        "#\n",
        "model_p = make_pipeline(SelectKBest(f_classif, k = 10), RandomForestClassifier(random_state=0))\n",
        "evaluation(model_p)"
      ],
      "execution_count": 26,
      "outputs": [
        {
          "output_type": "stream",
          "text": [
            "[[92  3]\n",
            " [11  5]]\n",
            "              precision    recall  f1-score   support\n",
            "\n",
            "           0       0.89      0.97      0.93        95\n",
            "           1       0.62      0.31      0.42        16\n",
            "\n",
            "    accuracy                           0.87       111\n",
            "   macro avg       0.76      0.64      0.67       111\n",
            "weighted avg       0.85      0.87      0.86       111\n",
            "\n",
            "              precision    recall  f1-score   support\n",
            "\n",
            "           0       1.00      1.00      1.00       422\n",
            "           1       1.00      1.00      1.00        65\n",
            "\n",
            "    accuracy                           1.00       487\n",
            "   macro avg       1.00      1.00      1.00       487\n",
            "weighted avg       1.00      1.00      1.00       487\n",
            "\n"
          ],
          "name": "stdout"
        },
        {
          "output_type": "display_data",
          "data": {
            "image/png": "[encoded data removed]",
            "text/plain": [
              "<Figure size 720x432 with 1 Axes>"
            ]
          },
          "metadata": {
            "tags": [],
            "needs_background": "light"
          }
        }
      ]
    },
    {
      "cell_type": "code",
      "metadata": {
        "colab": {
          "base_uri": "https://localhost:8080/",
          "height": 1000
        },
        "id": "4hNYoFtm44pl",
        "outputId": "5b1d3d8c-37f5-418a-b07b-e2c31f7db8be"
      },
      "source": [
        "# RANDOM FOREST\n",
        "# train set et test set\n",
        "train_set, test_set = train_test_split(data, test_size = 0.2, random_state=0 )\n",
        "#preprocessing\n",
        "X_train, y_train =preprocessing_feature_engineering(train_set)\n",
        "X_test, y_test =preprocessing_feature_engineering(test_set)\n",
        "#evaluation\n",
        "model_p_v0 = make_pipeline(SelectKBest(f_classif, k = 5), RandomForestClassifier(random_state=0))\n",
        "evaluation(model_p)"
      ],
      "execution_count": 39,
      "outputs": [
        {
          "output_type": "stream",
          "text": [
            "/usr/local/lib/python3.7/dist-packages/pandas/core/indexing.py:1743: SettingWithCopyWarning: \n",
            "A value is trying to be set on a copy of a slice from a DataFrame.\n",
            "Try using .loc[row_indexer,col_indexer] = value instead\n",
            "\n",
            "See the caveats in the documentation: https://pandas.pydata.org/pandas-docs/stable/user_guide/indexing.html#returning-a-view-versus-a-copy\n",
            "  isetter(ilocs[0], value)\n",
            "/usr/local/lib/python3.7/dist-packages/ipykernel_launcher.py:2: SettingWithCopyWarning: \n",
            "A value is trying to be set on a copy of a slice from a DataFrame.\n",
            "Try using .loc[row_indexer,col_indexer] = value instead\n",
            "\n",
            "See the caveats in the documentation: https://pandas.pydata.org/pandas-docs/stable/user_guide/indexing.html#returning-a-view-versus-a-copy\n",
            "  \n",
            "/usr/local/lib/python3.7/dist-packages/pandas/core/indexing.py:1743: SettingWithCopyWarning: \n",
            "A value is trying to be set on a copy of a slice from a DataFrame.\n",
            "Try using .loc[row_indexer,col_indexer] = value instead\n",
            "\n",
            "See the caveats in the documentation: https://pandas.pydata.org/pandas-docs/stable/user_guide/indexing.html#returning-a-view-versus-a-copy\n",
            "  isetter(ilocs[0], value)\n",
            "/usr/local/lib/python3.7/dist-packages/ipykernel_launcher.py:2: SettingWithCopyWarning: \n",
            "A value is trying to be set on a copy of a slice from a DataFrame.\n",
            "Try using .loc[row_indexer,col_indexer] = value instead\n",
            "\n",
            "See the caveats in the documentation: https://pandas.pydata.org/pandas-docs/stable/user_guide/indexing.html#returning-a-view-versus-a-copy\n",
            "  \n"
          ],
          "name": "stderr"
        },
        {
          "output_type": "stream",
          "text": [
            "0    422\n",
            "1     65\n",
            "Name: SARS-Cov-2 exam result, dtype: int64\n",
            "0    95\n",
            "1    16\n",
            "Name: SARS-Cov-2 exam result, dtype: int64\n",
            "[[92  3]\n",
            " [11  5]]\n",
            "              precision    recall  f1-score   support\n",
            "\n",
            "           0       0.89      0.97      0.93        95\n",
            "           1       0.62      0.31      0.42        16\n",
            "\n",
            "    accuracy                           0.87       111\n",
            "   macro avg       0.76      0.64      0.67       111\n",
            "weighted avg       0.85      0.87      0.86       111\n",
            "\n",
            "              precision    recall  f1-score   support\n",
            "\n",
            "           0       1.00      1.00      1.00       422\n",
            "           1       1.00      1.00      1.00        65\n",
            "\n",
            "    accuracy                           1.00       487\n",
            "   macro avg       1.00      1.00      1.00       487\n",
            "weighted avg       1.00      1.00      1.00       487\n",
            "\n"
          ],
          "name": "stdout"
        },
        {
          "output_type": "display_data",
          "data": {
            "image/png": "[encoded data removed]",
            "text/plain": [
              "<Figure size 720x432 with 1 Axes>"
            ]
          },
          "metadata": {
            "tags": [],
            "needs_background": "light"
          }
        }
      ]
    },
    {
      "cell_type": "code",
      "metadata": {
        "colab": {
          "base_uri": "https://localhost:8080/",
          "height": 1000
        },
        "id": "mgyvSJWTaGMQ",
        "outputId": "bd5a3827-a6b1-4706-f338-c699fc1685f8"
      },
      "source": [
        "# RANDOM FOREST\n",
        "# train set et test set\n",
        "train_set, test_set = train_test_split(data_2, test_size = 0.2, random_state=0 )\n",
        "#preprocessing\n",
        "X_train, y_train =preprocessing(train_set)\n",
        "X_test, y_test =preprocessing(test_set)\n",
        "#evaluation\n",
        "model_p_v0 = make_pipeline(SelectKBest(f_classif, k = 5), RandomForestClassifier(random_state=0))\n",
        "evaluation(model_p)"
      ],
      "execution_count": 41,
      "outputs": [
        {
          "output_type": "stream",
          "text": [
            "/usr/local/lib/python3.7/dist-packages/pandas/core/indexing.py:1743: SettingWithCopyWarning: \n",
            "A value is trying to be set on a copy of a slice from a DataFrame.\n",
            "Try using .loc[row_indexer,col_indexer] = value instead\n",
            "\n",
            "See the caveats in the documentation: https://pandas.pydata.org/pandas-docs/stable/user_guide/indexing.html#returning-a-view-versus-a-copy\n",
            "  isetter(ilocs[0], value)\n",
            "/usr/local/lib/python3.7/dist-packages/pandas/core/indexing.py:1743: SettingWithCopyWarning: \n",
            "A value is trying to be set on a copy of a slice from a DataFrame.\n",
            "Try using .loc[row_indexer,col_indexer] = value instead\n",
            "\n",
            "See the caveats in the documentation: https://pandas.pydata.org/pandas-docs/stable/user_guide/indexing.html#returning-a-view-versus-a-copy\n",
            "  isetter(ilocs[0], value)\n"
          ],
          "name": "stderr"
        },
        {
          "output_type": "stream",
          "text": [
            "0    422\n",
            "1     65\n",
            "Name: SARS-Cov-2 exam result, dtype: int64\n",
            "0    95\n",
            "1    16\n",
            "Name: SARS-Cov-2 exam result, dtype: int64\n",
            "[[93  2]\n",
            " [12  4]]\n",
            "              precision    recall  f1-score   support\n",
            "\n",
            "           0       0.89      0.98      0.93        95\n",
            "           1       0.67      0.25      0.36        16\n",
            "\n",
            "    accuracy                           0.87       111\n",
            "   macro avg       0.78      0.61      0.65       111\n",
            "weighted avg       0.85      0.87      0.85       111\n",
            "\n",
            "              precision    recall  f1-score   support\n",
            "\n",
            "           0       1.00      1.00      1.00       422\n",
            "           1       1.00      1.00      1.00        65\n",
            "\n",
            "    accuracy                           1.00       487\n",
            "   macro avg       1.00      1.00      1.00       487\n",
            "weighted avg       1.00      1.00      1.00       487\n",
            "\n"
          ],
          "name": "stdout"
        },
        {
          "output_type": "display_data",
          "data": {
            "image/png": "[encoded data removed]",
            "text/plain": [
              "<Figure size 720x432 with 1 Axes>"
            ]
          },
          "metadata": {
            "tags": [],
            "needs_background": "light"
          }
        }
      ]
    },
    {
      "cell_type": "code",
      "metadata": {
        "colab": {
          "base_uri": "https://localhost:8080/",
          "height": 719
        },
        "id": "QB69hCBT4_5R",
        "outputId": "0bff674e-d5cb-4af4-9e9a-e18a3e47e953"
      },
      "source": [
        "model_p_v1 = make_pipeline(SelectKBest(f_classif, k = 8), RandomForestClassifier(random_state=0))\n",
        "evaluation(model_p)"
      ],
      "execution_count": 28,
      "outputs": [
        {
          "output_type": "stream",
          "text": [
            "[[92  3]\n",
            " [11  5]]\n",
            "              precision    recall  f1-score   support\n",
            "\n",
            "           0       0.89      0.97      0.93        95\n",
            "           1       0.62      0.31      0.42        16\n",
            "\n",
            "    accuracy                           0.87       111\n",
            "   macro avg       0.76      0.64      0.67       111\n",
            "weighted avg       0.85      0.87      0.86       111\n",
            "\n",
            "              precision    recall  f1-score   support\n",
            "\n",
            "           0       1.00      1.00      1.00       422\n",
            "           1       1.00      1.00      1.00        65\n",
            "\n",
            "    accuracy                           1.00       487\n",
            "   macro avg       1.00      1.00      1.00       487\n",
            "weighted avg       1.00      1.00      1.00       487\n",
            "\n"
          ],
          "name": "stdout"
        },
        {
          "output_type": "display_data",
          "data": {
            "image/png": "[encoded data removed]",
            "text/plain": [
              "<Figure size 720x432 with 1 Axes>"
            ]
          },
          "metadata": {
            "tags": [],
            "needs_background": "light"
          }
        }
      ]
    },
    {
      "cell_type": "code",
      "metadata": {
        "colab": {
          "base_uri": "https://localhost:8080/",
          "height": 1000
        },
        "id": "zWIuX9gQ5DuD",
        "outputId": "1c0bc3fd-e5c3-4f0e-bddd-18164169e00a"
      },
      "source": [
        "model_p_v2 = make_pipeline(PolynomialFeatures(2) , SelectKBest(f_classif, k = 8), RandomForestClassifier(random_state=0))\n",
        "evaluation(model_p_v2)"
      ],
      "execution_count": 29,
      "outputs": [
        {
          "output_type": "stream",
          "text": [
            "/usr/local/lib/python3.7/dist-packages/sklearn/feature_selection/_univariate_selection.py:114: UserWarning: Features [0] are constant.\n",
            "  UserWarning)\n",
            "/usr/local/lib/python3.7/dist-packages/sklearn/feature_selection/_univariate_selection.py:115: RuntimeWarning: invalid value encountered in true_divide\n",
            "  f = msb / msw\n"
          ],
          "name": "stderr"
        },
        {
          "output_type": "stream",
          "text": [
            "[[91  4]\n",
            " [10  6]]\n",
            "              precision    recall  f1-score   support\n",
            "\n",
            "           0       0.90      0.96      0.93        95\n",
            "           1       0.60      0.38      0.46        16\n",
            "\n",
            "    accuracy                           0.87       111\n",
            "   macro avg       0.75      0.67      0.70       111\n",
            "weighted avg       0.86      0.87      0.86       111\n",
            "\n",
            "              precision    recall  f1-score   support\n",
            "\n",
            "           0       1.00      1.00      1.00       422\n",
            "           1       1.00      1.00      1.00        65\n",
            "\n",
            "    accuracy                           1.00       487\n",
            "   macro avg       1.00      1.00      1.00       487\n",
            "weighted avg       1.00      1.00      1.00       487\n",
            "\n"
          ],
          "name": "stdout"
        },
        {
          "output_type": "stream",
          "text": [
            "/usr/local/lib/python3.7/dist-packages/sklearn/feature_selection/_univariate_selection.py:114: UserWarning: Features [0] are constant.\n",
            "  UserWarning)\n",
            "/usr/local/lib/python3.7/dist-packages/sklearn/feature_selection/_univariate_selection.py:115: RuntimeWarning: invalid value encountered in true_divide\n",
            "  f = msb / msw\n",
            "/usr/local/lib/python3.7/dist-packages/sklearn/feature_selection/_univariate_selection.py:114: UserWarning: Features [0] are constant.\n",
            "  UserWarning)\n",
            "/usr/local/lib/python3.7/dist-packages/sklearn/feature_selection/_univariate_selection.py:115: RuntimeWarning: invalid value encountered in true_divide\n",
            "  f = msb / msw\n",
            "/usr/local/lib/python3.7/dist-packages/sklearn/feature_selection/_univariate_selection.py:114: UserWarning: Features [0] are constant.\n",
            "  UserWarning)\n",
            "/usr/local/lib/python3.7/dist-packages/sklearn/feature_selection/_univariate_selection.py:115: RuntimeWarning: invalid value encountered in true_divide\n",
            "  f = msb / msw\n",
            "/usr/local/lib/python3.7/dist-packages/sklearn/feature_selection/_univariate_selection.py:114: UserWarning: Features [0] are constant.\n",
            "  UserWarning)\n",
            "/usr/local/lib/python3.7/dist-packages/sklearn/feature_selection/_univariate_selection.py:115: RuntimeWarning: invalid value encountered in true_divide\n",
            "  f = msb / msw\n",
            "/usr/local/lib/python3.7/dist-packages/sklearn/feature_selection/_univariate_selection.py:114: UserWarning: Features [0] are constant.\n",
            "  UserWarning)\n",
            "/usr/local/lib/python3.7/dist-packages/sklearn/feature_selection/_univariate_selection.py:115: RuntimeWarning: invalid value encountered in true_divide\n",
            "  f = msb / msw\n",
            "/usr/local/lib/python3.7/dist-packages/sklearn/feature_selection/_univariate_selection.py:114: UserWarning: Features [0] are constant.\n",
            "  UserWarning)\n",
            "/usr/local/lib/python3.7/dist-packages/sklearn/feature_selection/_univariate_selection.py:115: RuntimeWarning: invalid value encountered in true_divide\n",
            "  f = msb / msw\n",
            "/usr/local/lib/python3.7/dist-packages/sklearn/feature_selection/_univariate_selection.py:114: UserWarning: Features [0] are constant.\n",
            "  UserWarning)\n",
            "/usr/local/lib/python3.7/dist-packages/sklearn/feature_selection/_univariate_selection.py:115: RuntimeWarning: invalid value encountered in true_divide\n",
            "  f = msb / msw\n",
            "/usr/local/lib/python3.7/dist-packages/sklearn/feature_selection/_univariate_selection.py:114: UserWarning: Features [0] are constant.\n",
            "  UserWarning)\n",
            "/usr/local/lib/python3.7/dist-packages/sklearn/feature_selection/_univariate_selection.py:115: RuntimeWarning: invalid value encountered in true_divide\n",
            "  f = msb / msw\n",
            "/usr/local/lib/python3.7/dist-packages/sklearn/feature_selection/_univariate_selection.py:114: UserWarning: Features [0] are constant.\n",
            "  UserWarning)\n",
            "/usr/local/lib/python3.7/dist-packages/sklearn/feature_selection/_univariate_selection.py:115: RuntimeWarning: invalid value encountered in true_divide\n",
            "  f = msb / msw\n",
            "/usr/local/lib/python3.7/dist-packages/sklearn/feature_selection/_univariate_selection.py:114: UserWarning: Features [0] are constant.\n",
            "  UserWarning)\n",
            "/usr/local/lib/python3.7/dist-packages/sklearn/feature_selection/_univariate_selection.py:115: RuntimeWarning: invalid value encountered in true_divide\n",
            "  f = msb / msw\n",
            "/usr/local/lib/python3.7/dist-packages/sklearn/feature_selection/_univariate_selection.py:114: UserWarning: Features [0] are constant.\n",
            "  UserWarning)\n",
            "/usr/local/lib/python3.7/dist-packages/sklearn/feature_selection/_univariate_selection.py:115: RuntimeWarning: invalid value encountered in true_divide\n",
            "  f = msb / msw\n",
            "/usr/local/lib/python3.7/dist-packages/sklearn/feature_selection/_univariate_selection.py:114: UserWarning: Features [0] are constant.\n",
            "  UserWarning)\n",
            "/usr/local/lib/python3.7/dist-packages/sklearn/feature_selection/_univariate_selection.py:115: RuntimeWarning: invalid value encountered in true_divide\n",
            "  f = msb / msw\n",
            "/usr/local/lib/python3.7/dist-packages/sklearn/feature_selection/_univariate_selection.py:114: UserWarning: Features [0] are constant.\n",
            "  UserWarning)\n",
            "/usr/local/lib/python3.7/dist-packages/sklearn/feature_selection/_univariate_selection.py:115: RuntimeWarning: invalid value encountered in true_divide\n",
            "  f = msb / msw\n",
            "/usr/local/lib/python3.7/dist-packages/sklearn/feature_selection/_univariate_selection.py:114: UserWarning: Features [0] are constant.\n",
            "  UserWarning)\n",
            "/usr/local/lib/python3.7/dist-packages/sklearn/feature_selection/_univariate_selection.py:115: RuntimeWarning: invalid value encountered in true_divide\n",
            "  f = msb / msw\n",
            "/usr/local/lib/python3.7/dist-packages/sklearn/feature_selection/_univariate_selection.py:114: UserWarning: Features [0] are constant.\n",
            "  UserWarning)\n",
            "/usr/local/lib/python3.7/dist-packages/sklearn/feature_selection/_univariate_selection.py:115: RuntimeWarning: invalid value encountered in true_divide\n",
            "  f = msb / msw\n",
            "/usr/local/lib/python3.7/dist-packages/sklearn/feature_selection/_univariate_selection.py:114: UserWarning: Features [0] are constant.\n",
            "  UserWarning)\n",
            "/usr/local/lib/python3.7/dist-packages/sklearn/feature_selection/_univariate_selection.py:115: RuntimeWarning: invalid value encountered in true_divide\n",
            "  f = msb / msw\n",
            "/usr/local/lib/python3.7/dist-packages/sklearn/feature_selection/_univariate_selection.py:114: UserWarning: Features [0] are constant.\n",
            "  UserWarning)\n",
            "/usr/local/lib/python3.7/dist-packages/sklearn/feature_selection/_univariate_selection.py:115: RuntimeWarning: invalid value encountered in true_divide\n",
            "  f = msb / msw\n",
            "/usr/local/lib/python3.7/dist-packages/sklearn/feature_selection/_univariate_selection.py:114: UserWarning: Features [0] are constant.\n",
            "  UserWarning)\n",
            "/usr/local/lib/python3.7/dist-packages/sklearn/feature_selection/_univariate_selection.py:115: RuntimeWarning: invalid value encountered in true_divide\n",
            "  f = msb / msw\n",
            "/usr/local/lib/python3.7/dist-packages/sklearn/feature_selection/_univariate_selection.py:114: UserWarning: Features [0] are constant.\n",
            "  UserWarning)\n",
            "/usr/local/lib/python3.7/dist-packages/sklearn/feature_selection/_univariate_selection.py:115: RuntimeWarning: invalid value encountered in true_divide\n",
            "  f = msb / msw\n",
            "/usr/local/lib/python3.7/dist-packages/sklearn/feature_selection/_univariate_selection.py:114: UserWarning: Features [0] are constant.\n",
            "  UserWarning)\n",
            "/usr/local/lib/python3.7/dist-packages/sklearn/feature_selection/_univariate_selection.py:115: RuntimeWarning: invalid value encountered in true_divide\n",
            "  f = msb / msw\n",
            "/usr/local/lib/python3.7/dist-packages/sklearn/feature_selection/_univariate_selection.py:114: UserWarning: Features [0] are constant.\n",
            "  UserWarning)\n",
            "/usr/local/lib/python3.7/dist-packages/sklearn/feature_selection/_univariate_selection.py:115: RuntimeWarning: invalid value encountered in true_divide\n",
            "  f = msb / msw\n",
            "/usr/local/lib/python3.7/dist-packages/sklearn/feature_selection/_univariate_selection.py:114: UserWarning: Features [0] are constant.\n",
            "  UserWarning)\n",
            "/usr/local/lib/python3.7/dist-packages/sklearn/feature_selection/_univariate_selection.py:115: RuntimeWarning: invalid value encountered in true_divide\n",
            "  f = msb / msw\n",
            "/usr/local/lib/python3.7/dist-packages/sklearn/feature_selection/_univariate_selection.py:114: UserWarning: Features [0] are constant.\n",
            "  UserWarning)\n",
            "/usr/local/lib/python3.7/dist-packages/sklearn/feature_selection/_univariate_selection.py:115: RuntimeWarning: invalid value encountered in true_divide\n",
            "  f = msb / msw\n",
            "/usr/local/lib/python3.7/dist-packages/sklearn/feature_selection/_univariate_selection.py:114: UserWarning: Features [0] are constant.\n",
            "  UserWarning)\n",
            "/usr/local/lib/python3.7/dist-packages/sklearn/feature_selection/_univariate_selection.py:115: RuntimeWarning: invalid value encountered in true_divide\n",
            "  f = msb / msw\n",
            "/usr/local/lib/python3.7/dist-packages/sklearn/feature_selection/_univariate_selection.py:114: UserWarning: Features [0] are constant.\n",
            "  UserWarning)\n",
            "/usr/local/lib/python3.7/dist-packages/sklearn/feature_selection/_univariate_selection.py:115: RuntimeWarning: invalid value encountered in true_divide\n",
            "  f = msb / msw\n",
            "/usr/local/lib/python3.7/dist-packages/sklearn/feature_selection/_univariate_selection.py:114: UserWarning: Features [0] are constant.\n",
            "  UserWarning)\n",
            "/usr/local/lib/python3.7/dist-packages/sklearn/feature_selection/_univariate_selection.py:115: RuntimeWarning: invalid value encountered in true_divide\n",
            "  f = msb / msw\n",
            "/usr/local/lib/python3.7/dist-packages/sklearn/feature_selection/_univariate_selection.py:114: UserWarning: Features [0] are constant.\n",
            "  UserWarning)\n",
            "/usr/local/lib/python3.7/dist-packages/sklearn/feature_selection/_univariate_selection.py:115: RuntimeWarning: invalid value encountered in true_divide\n",
            "  f = msb / msw\n",
            "/usr/local/lib/python3.7/dist-packages/sklearn/feature_selection/_univariate_selection.py:114: UserWarning: Features [0] are constant.\n",
            "  UserWarning)\n",
            "/usr/local/lib/python3.7/dist-packages/sklearn/feature_selection/_univariate_selection.py:115: RuntimeWarning: invalid value encountered in true_divide\n",
            "  f = msb / msw\n",
            "/usr/local/lib/python3.7/dist-packages/sklearn/feature_selection/_univariate_selection.py:114: UserWarning: Features [0] are constant.\n",
            "  UserWarning)\n",
            "/usr/local/lib/python3.7/dist-packages/sklearn/feature_selection/_univariate_selection.py:115: RuntimeWarning: invalid value encountered in true_divide\n",
            "  f = msb / msw\n",
            "/usr/local/lib/python3.7/dist-packages/sklearn/feature_selection/_univariate_selection.py:114: UserWarning: Features [0] are constant.\n",
            "  UserWarning)\n",
            "/usr/local/lib/python3.7/dist-packages/sklearn/feature_selection/_univariate_selection.py:115: RuntimeWarning: invalid value encountered in true_divide\n",
            "  f = msb / msw\n",
            "/usr/local/lib/python3.7/dist-packages/sklearn/feature_selection/_univariate_selection.py:114: UserWarning: Features [0] are constant.\n",
            "  UserWarning)\n",
            "/usr/local/lib/python3.7/dist-packages/sklearn/feature_selection/_univariate_selection.py:115: RuntimeWarning: invalid value encountered in true_divide\n",
            "  f = msb / msw\n",
            "/usr/local/lib/python3.7/dist-packages/sklearn/feature_selection/_univariate_selection.py:114: UserWarning: Features [0] are constant.\n",
            "  UserWarning)\n",
            "/usr/local/lib/python3.7/dist-packages/sklearn/feature_selection/_univariate_selection.py:115: RuntimeWarning: invalid value encountered in true_divide\n",
            "  f = msb / msw\n",
            "/usr/local/lib/python3.7/dist-packages/sklearn/feature_selection/_univariate_selection.py:114: UserWarning: Features [0] are constant.\n",
            "  UserWarning)\n",
            "/usr/local/lib/python3.7/dist-packages/sklearn/feature_selection/_univariate_selection.py:115: RuntimeWarning: invalid value encountered in true_divide\n",
            "  f = msb / msw\n",
            "/usr/local/lib/python3.7/dist-packages/sklearn/feature_selection/_univariate_selection.py:114: UserWarning: Features [0] are constant.\n",
            "  UserWarning)\n",
            "/usr/local/lib/python3.7/dist-packages/sklearn/feature_selection/_univariate_selection.py:115: RuntimeWarning: invalid value encountered in true_divide\n",
            "  f = msb / msw\n",
            "/usr/local/lib/python3.7/dist-packages/sklearn/feature_selection/_univariate_selection.py:114: UserWarning: Features [0] are constant.\n",
            "  UserWarning)\n",
            "/usr/local/lib/python3.7/dist-packages/sklearn/feature_selection/_univariate_selection.py:115: RuntimeWarning: invalid value encountered in true_divide\n",
            "  f = msb / msw\n",
            "/usr/local/lib/python3.7/dist-packages/sklearn/feature_selection/_univariate_selection.py:114: UserWarning: Features [0] are constant.\n",
            "  UserWarning)\n",
            "/usr/local/lib/python3.7/dist-packages/sklearn/feature_selection/_univariate_selection.py:115: RuntimeWarning: invalid value encountered in true_divide\n",
            "  f = msb / msw\n",
            "/usr/local/lib/python3.7/dist-packages/sklearn/feature_selection/_univariate_selection.py:114: UserWarning: Features [0] are constant.\n",
            "  UserWarning)\n",
            "/usr/local/lib/python3.7/dist-packages/sklearn/feature_selection/_univariate_selection.py:115: RuntimeWarning: invalid value encountered in true_divide\n",
            "  f = msb / msw\n",
            "/usr/local/lib/python3.7/dist-packages/sklearn/feature_selection/_univariate_selection.py:114: UserWarning: Features [0] are constant.\n",
            "  UserWarning)\n",
            "/usr/local/lib/python3.7/dist-packages/sklearn/feature_selection/_univariate_selection.py:115: RuntimeWarning: invalid value encountered in true_divide\n",
            "  f = msb / msw\n",
            "/usr/local/lib/python3.7/dist-packages/sklearn/feature_selection/_univariate_selection.py:114: UserWarning: Features [0] are constant.\n",
            "  UserWarning)\n",
            "/usr/local/lib/python3.7/dist-packages/sklearn/feature_selection/_univariate_selection.py:115: RuntimeWarning: invalid value encountered in true_divide\n",
            "  f = msb / msw\n",
            "/usr/local/lib/python3.7/dist-packages/sklearn/feature_selection/_univariate_selection.py:114: UserWarning: Features [0] are constant.\n",
            "  UserWarning)\n",
            "/usr/local/lib/python3.7/dist-packages/sklearn/feature_selection/_univariate_selection.py:115: RuntimeWarning: invalid value encountered in true_divide\n",
            "  f = msb / msw\n"
          ],
          "name": "stderr"
        },
        {
          "output_type": "display_data",
          "data": {
            "image/png": "[encoded data removed]",
            "text/plain": [
              "<Figure size 720x432 with 1 Axes>"
            ]
          },
          "metadata": {
            "tags": [],
            "needs_background": "light"
          }
        }
      ]
    },
    {
      "cell_type": "code",
      "metadata": {
        "id": "GIpTUlXY7kRZ",
        "colab": {
          "base_uri": "https://localhost:8080/"
        },
        "outputId": "26901281-17fb-4b71-9351-1fae13b17ff1"
      },
      "source": [
        "model_p_v1.set_params"
      ],
      "execution_count": 33,
      "outputs": [
        {
          "output_type": "execute_result",
          "data": {
            "text/plain": [
              "<bound method Pipeline.set_params of Pipeline(memory=None,\n",
              "         steps=[('selectkbest',\n",
              "                 SelectKBest(k=8,\n",
              "                             score_func=<function f_classif at 0x7f364d8f08c0>)),\n",
              "                ('randomforestclassifier',\n",
              "                 RandomForestClassifier(bootstrap=True, ccp_alpha=0.0,\n",
              "                                        class_weight=None, criterion='gini',\n",
              "                                        max_depth=None, max_features='auto',\n",
              "                                        max_leaf_nodes=None, max_samples=None,\n",
              "                                        min_impurity_decrease=0.0,\n",
              "                                        min_impurity_split=None,\n",
              "                                        min_samples_leaf=1, min_samples_split=2,\n",
              "                                        min_weight_fraction_leaf=0.0,\n",
              "                                        n_estimators=100, n_jobs=None,\n",
              "                                        oob_score=False, random_state=0,\n",
              "                                        verbose=0, warm_start=False))],\n",
              "         verbose=False)>"
            ]
          },
          "metadata": {
            "tags": []
          },
          "execution_count": 33
        }
      ]
    },
    {
      "cell_type": "code",
      "metadata": {
        "colab": {
          "base_uri": "https://localhost:8080/"
        },
        "id": "Y8W5NhvxVWzp",
        "outputId": "9bd2481f-a394-437d-99a8-1b07e64c2e8b"
      },
      "source": [
        "RandomForestClassifier.set_params"
      ],
      "execution_count": 36,
      "outputs": [
        {
          "output_type": "execute_result",
          "data": {
            "text/plain": [
              "<function sklearn.base.BaseEstimator.set_params>"
            ]
          },
          "metadata": {
            "tags": []
          },
          "execution_count": 36
        }
      ]
    },
    {
      "cell_type": "code",
      "metadata": {
        "id": "aWVasthiWwEX"
      },
      "source": [
        ""
      ],
      "execution_count": null,
      "outputs": []
    }
  ]
}